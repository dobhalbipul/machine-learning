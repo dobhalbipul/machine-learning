{
  "cells": [
    {
      "cell_type": "markdown",
      "metadata": {
        "id": "2LSllI_FjLAF"
      },
      "source": [
        "\n",
        "<h2> Demo 1: Perform K-Fold Cross Validation Using Python </h2>\n",
        "\n",
        "In this demo, you will learn how to apply K-Fold cross validation to evaluate the model using Python."
      ]
    },
    {
      "cell_type": "markdown",
      "metadata": {
        "id": "rHgg5mHNjLAI"
      },
      "source": [
        "## Problem Statement"
      ]
    },
    {
      "cell_type": "markdown",
      "metadata": {
        "id": "vTCweUqpjLAI"
      },
      "source": [
        "Details of clients of a wholesale distributor is given along with their region the aim is to classify their region."
      ]
    },
    {
      "cell_type": "markdown",
      "metadata": {
        "id": "vizl8jd8jLAJ"
      },
      "source": [
        "# Dataset"
      ]
    },
    {
      "cell_type": "markdown",
      "metadata": {
        "id": "9c4-cNkMjLAJ"
      },
      "source": [
        "<b>Wholesale customer data.csv</b> is the dataset that has details of clients of a wholesale distributor. Annual spending on monetary units (m.u.) on diverse product categories is given along with their region:\n",
        "\n",
        "- __Fresh__: annual spending (m.u.) on fresh products\n",
        "- __Milk__: annual spending (m.u.) on milk products\n",
        "- __Grocery__: annual spending (m.u.)on grocery products\n",
        "- __Frozen__: annual spending (m.u.)on frozen products\n",
        "- __Detergents_Paper__: annual spending (m.u.) on detergents and paper products\n",
        "- __Deliacatessen__: annual spending (m.u.)on and delicatessen products\n",
        "- __Channel__: Customer Channel - `Horeca (Hotel/Restaurant/Cafe) or Retail channel`\n",
        "- __Region__: Customer Region - `Lisnon, Oporto or Other`"
      ]
    },
    {
      "cell_type": "markdown",
      "metadata": {
        "id": "DzCzUBAtjLAJ"
      },
      "source": [
        "## Importing Required Libraries"
      ]
    },
    {
      "cell_type": "code",
      "execution_count": 20,
      "metadata": {
        "id": "dVmh6lsRjLAK"
      },
      "outputs": [],
      "source": [
        "import pandas as pd\n",
        "import matplotlib.pyplot as plt\n",
        "from sklearn.model_selection import cross_val_score\n",
        "from sklearn.tree import DecisionTreeClassifier\n",
        "from sklearn.metrics import accuracy_score\n",
        "from sklearn.preprocessing import MinMaxScaler\n",
        "from sklearn.model_selection import train_test_split, KFold\n",
        "import matplotlib.pyplot as plt"
      ]
    },
    {
      "cell_type": "markdown",
      "metadata": {
        "id": "JEeQvUcYjLAL"
      },
      "source": [
        "# Data Analysis"
      ]
    },
    {
      "cell_type": "markdown",
      "metadata": {
        "id": "hBmdibyhjLAL"
      },
      "source": [
        "<div style=\"background-color:##EDF9FF\">\n",
        "  <ul><li><h3> Checking Data</h3></li></ul>\n",
        "</div>"
      ]
    },
    {
      "cell_type": "code",
      "execution_count": 2,
      "metadata": {
        "id": "V9yqGhj3jLAL"
      },
      "outputs": [],
      "source": [
        "data=pd.read_csv('Wholesale customers data.csv')"
      ]
    },
    {
      "cell_type": "code",
      "execution_count": 3,
      "metadata": {
        "colab": {
          "base_uri": "https://localhost:8080/",
          "height": 206
        },
        "id": "UpVuz7RfjLAM",
        "outputId": "689063c2-15d4-4c3b-e448-e714664ac31f"
      },
      "outputs": [
        {
          "data": {
            "text/html": [
              "<div>\n",
              "<style scoped>\n",
              "    .dataframe tbody tr th:only-of-type {\n",
              "        vertical-align: middle;\n",
              "    }\n",
              "\n",
              "    .dataframe tbody tr th {\n",
              "        vertical-align: top;\n",
              "    }\n",
              "\n",
              "    .dataframe thead th {\n",
              "        text-align: right;\n",
              "    }\n",
              "</style>\n",
              "<table border=\"1\" class=\"dataframe\">\n",
              "  <thead>\n",
              "    <tr style=\"text-align: right;\">\n",
              "      <th></th>\n",
              "      <th>Channel</th>\n",
              "      <th>Region</th>\n",
              "      <th>Fresh</th>\n",
              "      <th>Milk</th>\n",
              "      <th>Grocery</th>\n",
              "      <th>Frozen</th>\n",
              "      <th>Detergents_Paper</th>\n",
              "      <th>Delicassen</th>\n",
              "    </tr>\n",
              "  </thead>\n",
              "  <tbody>\n",
              "    <tr>\n",
              "      <th>0</th>\n",
              "      <td>2</td>\n",
              "      <td>3</td>\n",
              "      <td>12669</td>\n",
              "      <td>9656</td>\n",
              "      <td>7561</td>\n",
              "      <td>214</td>\n",
              "      <td>2674</td>\n",
              "      <td>1338</td>\n",
              "    </tr>\n",
              "    <tr>\n",
              "      <th>1</th>\n",
              "      <td>2</td>\n",
              "      <td>3</td>\n",
              "      <td>7057</td>\n",
              "      <td>9810</td>\n",
              "      <td>9568</td>\n",
              "      <td>1762</td>\n",
              "      <td>3293</td>\n",
              "      <td>1776</td>\n",
              "    </tr>\n",
              "    <tr>\n",
              "      <th>2</th>\n",
              "      <td>2</td>\n",
              "      <td>3</td>\n",
              "      <td>6353</td>\n",
              "      <td>8808</td>\n",
              "      <td>7684</td>\n",
              "      <td>2405</td>\n",
              "      <td>3516</td>\n",
              "      <td>7844</td>\n",
              "    </tr>\n",
              "    <tr>\n",
              "      <th>3</th>\n",
              "      <td>1</td>\n",
              "      <td>3</td>\n",
              "      <td>13265</td>\n",
              "      <td>1196</td>\n",
              "      <td>4221</td>\n",
              "      <td>6404</td>\n",
              "      <td>507</td>\n",
              "      <td>1788</td>\n",
              "    </tr>\n",
              "    <tr>\n",
              "      <th>4</th>\n",
              "      <td>2</td>\n",
              "      <td>3</td>\n",
              "      <td>22615</td>\n",
              "      <td>5410</td>\n",
              "      <td>7198</td>\n",
              "      <td>3915</td>\n",
              "      <td>1777</td>\n",
              "      <td>5185</td>\n",
              "    </tr>\n",
              "  </tbody>\n",
              "</table>\n",
              "</div>"
            ],
            "text/plain": [
              "   Channel  Region  Fresh  Milk  Grocery  Frozen  Detergents_Paper  Delicassen\n",
              "0        2       3  12669  9656     7561     214              2674        1338\n",
              "1        2       3   7057  9810     9568    1762              3293        1776\n",
              "2        2       3   6353  8808     7684    2405              3516        7844\n",
              "3        1       3  13265  1196     4221    6404               507        1788\n",
              "4        2       3  22615  5410     7198    3915              1777        5185"
            ]
          },
          "execution_count": 3,
          "metadata": {},
          "output_type": "execute_result"
        }
      ],
      "source": [
        "data.head()"
      ]
    },
    {
      "cell_type": "code",
      "execution_count": 4,
      "metadata": {
        "colab": {
          "base_uri": "https://localhost:8080/"
        },
        "id": "UcPIqleYjLAN",
        "outputId": "9873a496-ed1d-4bb4-b0dd-fc02fb78636b"
      },
      "outputs": [
        {
          "data": {
            "text/plain": [
              "(440, 8)"
            ]
          },
          "execution_count": 4,
          "metadata": {},
          "output_type": "execute_result"
        }
      ],
      "source": [
        "data.shape"
      ]
    },
    {
      "cell_type": "markdown",
      "metadata": {
        "id": "dFWI_VfLjLAN"
      },
      "source": [
        "Dataset has 440 rows and 8 columns"
      ]
    },
    {
      "cell_type": "markdown",
      "metadata": {
        "id": "9OcSUjfTjLAO"
      },
      "source": [
        "<div style=\"background-color:##EDF9FF\">\n",
        "  <ul><li><h3> Testing For Null Values</h3></li></ul>\n",
        "</div>"
      ]
    },
    {
      "cell_type": "code",
      "execution_count": 5,
      "metadata": {
        "colab": {
          "base_uri": "https://localhost:8080/",
          "height": 300
        },
        "id": "h2IrSBJMjLAO",
        "outputId": "0cbdd78c-dd26-4a22-aed8-f8f66dfe33f4"
      },
      "outputs": [
        {
          "data": {
            "text/html": [
              "<div>\n",
              "<style scoped>\n",
              "    .dataframe tbody tr th:only-of-type {\n",
              "        vertical-align: middle;\n",
              "    }\n",
              "\n",
              "    .dataframe tbody tr th {\n",
              "        vertical-align: top;\n",
              "    }\n",
              "\n",
              "    .dataframe thead th {\n",
              "        text-align: right;\n",
              "    }\n",
              "</style>\n",
              "<table border=\"1\" class=\"dataframe\">\n",
              "  <thead>\n",
              "    <tr style=\"text-align: right;\">\n",
              "      <th></th>\n",
              "      <th>Count</th>\n",
              "      <th>Percentage</th>\n",
              "    </tr>\n",
              "  </thead>\n",
              "  <tbody>\n",
              "    <tr>\n",
              "      <th>Channel</th>\n",
              "      <td>0</td>\n",
              "      <td>0.0</td>\n",
              "    </tr>\n",
              "    <tr>\n",
              "      <th>Region</th>\n",
              "      <td>0</td>\n",
              "      <td>0.0</td>\n",
              "    </tr>\n",
              "    <tr>\n",
              "      <th>Fresh</th>\n",
              "      <td>0</td>\n",
              "      <td>0.0</td>\n",
              "    </tr>\n",
              "    <tr>\n",
              "      <th>Milk</th>\n",
              "      <td>0</td>\n",
              "      <td>0.0</td>\n",
              "    </tr>\n",
              "    <tr>\n",
              "      <th>Grocery</th>\n",
              "      <td>0</td>\n",
              "      <td>0.0</td>\n",
              "    </tr>\n",
              "    <tr>\n",
              "      <th>Frozen</th>\n",
              "      <td>0</td>\n",
              "      <td>0.0</td>\n",
              "    </tr>\n",
              "    <tr>\n",
              "      <th>Detergents_Paper</th>\n",
              "      <td>0</td>\n",
              "      <td>0.0</td>\n",
              "    </tr>\n",
              "    <tr>\n",
              "      <th>Delicassen</th>\n",
              "      <td>0</td>\n",
              "      <td>0.0</td>\n",
              "    </tr>\n",
              "  </tbody>\n",
              "</table>\n",
              "</div>"
            ],
            "text/plain": [
              "                  Count  Percentage\n",
              "Channel               0         0.0\n",
              "Region                0         0.0\n",
              "Fresh                 0         0.0\n",
              "Milk                  0         0.0\n",
              "Grocery               0         0.0\n",
              "Frozen                0         0.0\n",
              "Detergents_Paper      0         0.0\n",
              "Delicassen            0         0.0"
            ]
          },
          "execution_count": 5,
          "metadata": {},
          "output_type": "execute_result"
        }
      ],
      "source": [
        "pd.DataFrame({'Count':data.isnull().sum(),'Percentage':data.isnull().sum()/data.shape[0]})"
      ]
    },
    {
      "cell_type": "markdown",
      "metadata": {
        "id": "ghLR1r-DjLAO"
      },
      "source": [
        "Dataset has no null values."
      ]
    },
    {
      "cell_type": "markdown",
      "metadata": {
        "id": "3FbNSxRCjLAP"
      },
      "source": [
        "<div style=\"background-color:##EDF9FF\">\n",
        "  <ul><li><h3> Check Distribution Of Target Variable</h3></li></ul>\n",
        "</div>"
      ]
    },
    {
      "cell_type": "code",
      "execution_count": 6,
      "metadata": {
        "colab": {
          "base_uri": "https://localhost:8080/",
          "height": 143
        },
        "id": "fIaOw5lrjLAP",
        "outputId": "eaedbb3a-3334-413f-9c67-286075882fa8"
      },
      "outputs": [
        {
          "data": {
            "text/html": [
              "<div>\n",
              "<style scoped>\n",
              "    .dataframe tbody tr th:only-of-type {\n",
              "        vertical-align: middle;\n",
              "    }\n",
              "\n",
              "    .dataframe tbody tr th {\n",
              "        vertical-align: top;\n",
              "    }\n",
              "\n",
              "    .dataframe thead th {\n",
              "        text-align: right;\n",
              "    }\n",
              "</style>\n",
              "<table border=\"1\" class=\"dataframe\">\n",
              "  <thead>\n",
              "    <tr style=\"text-align: right;\">\n",
              "      <th></th>\n",
              "      <th>Counts</th>\n",
              "      <th>Percentage</th>\n",
              "    </tr>\n",
              "    <tr>\n",
              "      <th>Region</th>\n",
              "      <th></th>\n",
              "      <th></th>\n",
              "    </tr>\n",
              "  </thead>\n",
              "  <tbody>\n",
              "    <tr>\n",
              "      <th>3</th>\n",
              "      <td>316</td>\n",
              "      <td>0.718182</td>\n",
              "    </tr>\n",
              "    <tr>\n",
              "      <th>1</th>\n",
              "      <td>77</td>\n",
              "      <td>0.175000</td>\n",
              "    </tr>\n",
              "    <tr>\n",
              "      <th>2</th>\n",
              "      <td>47</td>\n",
              "      <td>0.106818</td>\n",
              "    </tr>\n",
              "  </tbody>\n",
              "</table>\n",
              "</div>"
            ],
            "text/plain": [
              "        Counts  Percentage\n",
              "Region                    \n",
              "3          316    0.718182\n",
              "1           77    0.175000\n",
              "2           47    0.106818"
            ]
          },
          "execution_count": 6,
          "metadata": {},
          "output_type": "execute_result"
        }
      ],
      "source": [
        "target_ratio=pd.DataFrame({'Counts':data.Region.value_counts(),'Percentage':data.Region.value_counts()/len(data)})\n",
        "target_ratio"
      ]
    },
    {
      "cell_type": "code",
      "execution_count": 7,
      "metadata": {
        "colab": {
          "base_uri": "https://localhost:8080/",
          "height": 234
        },
        "id": "WDwLWLSljLAP",
        "outputId": "328fa209-f470-45e8-93fb-e9ee5b70275e",
        "scrolled": true
      },
      "outputs": [
        {
          "data": {
            "image/png": "[encoded data removed]",
            "text/plain": [
              "<Figure size 800x200 with 1 Axes>"
            ]
          },
          "metadata": {},
          "output_type": "display_data"
        }
      ],
      "source": [
        "plt.figure(figsize = (8,2))\n",
        "plt.barh(target_ratio.index, target_ratio.Percentage)\n",
        "plt.xlabel('Percentage')\n",
        "plt.show()"
      ]
    },
    {
      "cell_type": "markdown",
      "metadata": {
        "id": "C2nNUxs5jLAQ"
      },
      "source": [
        "<div style=\"background-color:##EDF9FF\">\n",
        "  <ul><li><h3>Handling Catergorical Features</h3></li></ul>\n",
        "</div>"
      ]
    },
    {
      "cell_type": "code",
      "execution_count": 8,
      "metadata": {
        "id": "bRQATc46jLAR"
      },
      "outputs": [],
      "source": [
        "data=pd.get_dummies(data,columns=['Channel'])"
      ]
    },
    {
      "cell_type": "code",
      "execution_count": 9,
      "metadata": {
        "colab": {
          "base_uri": "https://localhost:8080/"
        },
        "id": "4lhtWHbkj2Us",
        "outputId": "509d2e7c-74da-49bc-a755-3efeefbaea0d"
      },
      "outputs": [
        {
          "name": "stdout",
          "output_type": "stream",
          "text": [
            "Number of features (labels): 6\n",
            "Shape of the transposed data: (6, 440)\n"
          ]
        }
      ],
      "source": [
        "feat = ['Fresh', 'Milk', 'Grocery', 'Frozen', 'Detergents_Paper', 'Delicassen']\n",
        "\n",
        "print(\"Number of features (labels):\", len(feat))\n",
        "print(\"Shape of the transposed data:\", data[feat].T.shape)"
      ]
    },
    {
      "cell_type": "markdown",
      "metadata": {
        "id": "Qwmbru1JjLAR"
      },
      "source": [
        "<div style=\"background-color:##EDF9FF\">\n",
        "  <ul><li><h3>Scaling Features</h3></li></ul>\n",
        "</div>"
      ]
    },
    {
      "cell_type": "code",
      "execution_count": 10,
      "metadata": {
        "colab": {
          "base_uri": "https://localhost:8080/"
        },
        "id": "pLmPH3h1kCUK",
        "outputId": "c7240fd0-b343-4ac1-8e5c-7a4c5714c13f"
      },
      "outputs": [
        {
          "name": "stdout",
          "output_type": "stream",
          "text": [
            "NaN values in the data:\n",
            "Fresh               0\n",
            "Milk                0\n",
            "Grocery             0\n",
            "Frozen              0\n",
            "Detergents_Paper    0\n",
            "Delicassen          0\n",
            "dtype: int64\n",
            "\n",
            "Data types:\n",
            "Fresh               int64\n",
            "Milk                int64\n",
            "Grocery             int64\n",
            "Frozen              int64\n",
            "Detergents_Paper    int64\n",
            "Delicassen          int64\n",
            "dtype: object\n"
          ]
        }
      ],
      "source": [
        "# Check for NaN values\n",
        "print(\"NaN values in the data:\")\n",
        "print(data[feat].isna().sum())\n",
        "\n",
        "# Check data types\n",
        "print(\"\\nData types:\")\n",
        "print(data[feat].dtypes)\n"
      ]
    },
    {
      "cell_type": "code",
      "execution_count": 11,
      "metadata": {
        "colab": {
          "base_uri": "https://localhost:8080/",
          "height": 430
        },
        "id": "BZoG0LX1kY7J",
        "outputId": "b428a6ec-7b24-4901-ec9a-38d157063e6c"
      },
      "outputs": [
        {
          "name": "stderr",
          "output_type": "stream",
          "text": [
            "C:\\Users\\bdobhalx\\AppData\\Local\\Temp\\ipykernel_43776\\3907290029.py:10: MatplotlibDeprecationWarning: The 'labels' parameter of boxplot() has been renamed 'tick_labels' since Matplotlib 3.9; support for the old name will be dropped in 3.11.\n",
            "  plt.boxplot(data_to_plot, labels=feat, vert=False)\n"
          ]
        },
        {
          "data": {
            "image/png": "[encoded data removed]",
            "text/plain": [
              "<Figure size 640x480 with 1 Axes>"
            ]
          },
          "metadata": {},
          "output_type": "display_data"
        }
      ],
      "source": [
        "import matplotlib.pyplot as plt\n",
        "\n",
        "# Your features\n",
        "feat = ['Fresh', 'Milk', 'Grocery', 'Frozen', 'Detergents_Paper', 'Delicassen']\n",
        "\n",
        "# Convert each column to an array and store in a list\n",
        "data_to_plot = [data[column].values for column in feat]\n",
        "\n",
        "# Create the boxplot\n",
        "plt.boxplot(data_to_plot, labels=feat, vert=False)\n",
        "plt.show()\n"
      ]
    },
    {
      "cell_type": "code",
      "execution_count": 12,
      "metadata": {
        "id": "czErV0OqjLAR"
      },
      "outputs": [],
      "source": [
        "data[feat]=MinMaxScaler().fit_transform(data[feat])"
      ]
    },
    {
      "cell_type": "code",
      "execution_count": 13,
      "metadata": {
        "colab": {
          "base_uri": "https://localhost:8080/",
          "height": 430
        },
        "id": "I-LVH95Sk6HY",
        "outputId": "1a531a40-f14d-4869-dab6-68939a3b2b4e"
      },
      "outputs": [
        {
          "name": "stderr",
          "output_type": "stream",
          "text": [
            "C:\\Users\\bdobhalx\\AppData\\Local\\Temp\\ipykernel_43776\\1462440947.py:7: MatplotlibDeprecationWarning: The 'labels' parameter of boxplot() has been renamed 'tick_labels' since Matplotlib 3.9; support for the old name will be dropped in 3.11.\n",
            "  plt.boxplot(data_to_plot, labels=feat, vert=False)\n"
          ]
        },
        {
          "data": {
            "image/png": "[encoded data removed]",
            "text/plain": [
              "<Figure size 640x480 with 1 Axes>"
            ]
          },
          "metadata": {},
          "output_type": "display_data"
        }
      ],
      "source": [
        "#feat = ['Fresh', 'Milk', 'Grocery', 'Frozen', 'Detergents_Paper', 'Delicassen']\n",
        "\n",
        "# Convert each column to an array and store in a list\n",
        "data_to_plot = [data[column].values for column in feat]\n",
        "\n",
        "# Create the boxplot with the list of arrays\n",
        "plt.boxplot(data_to_plot, labels=feat, vert=False)\n",
        "plt.show()"
      ]
    },
    {
      "cell_type": "markdown",
      "metadata": {
        "id": "_eF_6dLFjLAS"
      },
      "source": [
        "Keeping outliers as we don't want to miss some valueble information."
      ]
    },
    {
      "cell_type": "markdown",
      "metadata": {
        "id": "yd6GxHWEjLAS"
      },
      "source": [
        "<div style=\"background-color:##EDF9FF\">\n",
        "  <ul><li><h3>New Data</h3></li></ul>\n",
        "</div>"
      ]
    },
    {
      "cell_type": "code",
      "execution_count": 14,
      "metadata": {
        "colab": {
          "base_uri": "https://localhost:8080/",
          "height": 206
        },
        "id": "8f2B4rZbjLAS",
        "outputId": "28acc76e-d2c8-40c8-b8b8-01fc300e399d"
      },
      "outputs": [
        {
          "data": {
            "text/html": [
              "<div>\n",
              "<style scoped>\n",
              "    .dataframe tbody tr th:only-of-type {\n",
              "        vertical-align: middle;\n",
              "    }\n",
              "\n",
              "    .dataframe tbody tr th {\n",
              "        vertical-align: top;\n",
              "    }\n",
              "\n",
              "    .dataframe thead th {\n",
              "        text-align: right;\n",
              "    }\n",
              "</style>\n",
              "<table border=\"1\" class=\"dataframe\">\n",
              "  <thead>\n",
              "    <tr style=\"text-align: right;\">\n",
              "      <th></th>\n",
              "      <th>Region</th>\n",
              "      <th>Fresh</th>\n",
              "      <th>Milk</th>\n",
              "      <th>Grocery</th>\n",
              "      <th>Frozen</th>\n",
              "      <th>Detergents_Paper</th>\n",
              "      <th>Delicassen</th>\n",
              "      <th>Channel_1</th>\n",
              "      <th>Channel_2</th>\n",
              "    </tr>\n",
              "  </thead>\n",
              "  <tbody>\n",
              "    <tr>\n",
              "      <th>0</th>\n",
              "      <td>3</td>\n",
              "      <td>0.112940</td>\n",
              "      <td>0.130727</td>\n",
              "      <td>0.081464</td>\n",
              "      <td>0.003106</td>\n",
              "      <td>0.065427</td>\n",
              "      <td>0.027847</td>\n",
              "      <td>False</td>\n",
              "      <td>True</td>\n",
              "    </tr>\n",
              "    <tr>\n",
              "      <th>1</th>\n",
              "      <td>3</td>\n",
              "      <td>0.062899</td>\n",
              "      <td>0.132824</td>\n",
              "      <td>0.103097</td>\n",
              "      <td>0.028548</td>\n",
              "      <td>0.080590</td>\n",
              "      <td>0.036984</td>\n",
              "      <td>False</td>\n",
              "      <td>True</td>\n",
              "    </tr>\n",
              "    <tr>\n",
              "      <th>2</th>\n",
              "      <td>3</td>\n",
              "      <td>0.056622</td>\n",
              "      <td>0.119181</td>\n",
              "      <td>0.082790</td>\n",
              "      <td>0.039116</td>\n",
              "      <td>0.086052</td>\n",
              "      <td>0.163559</td>\n",
              "      <td>False</td>\n",
              "      <td>True</td>\n",
              "    </tr>\n",
              "    <tr>\n",
              "      <th>3</th>\n",
              "      <td>3</td>\n",
              "      <td>0.118254</td>\n",
              "      <td>0.015536</td>\n",
              "      <td>0.045464</td>\n",
              "      <td>0.104842</td>\n",
              "      <td>0.012346</td>\n",
              "      <td>0.037234</td>\n",
              "      <td>True</td>\n",
              "      <td>False</td>\n",
              "    </tr>\n",
              "    <tr>\n",
              "      <th>4</th>\n",
              "      <td>3</td>\n",
              "      <td>0.201626</td>\n",
              "      <td>0.072914</td>\n",
              "      <td>0.077552</td>\n",
              "      <td>0.063934</td>\n",
              "      <td>0.043455</td>\n",
              "      <td>0.108093</td>\n",
              "      <td>False</td>\n",
              "      <td>True</td>\n",
              "    </tr>\n",
              "  </tbody>\n",
              "</table>\n",
              "</div>"
            ],
            "text/plain": [
              "   Region     Fresh      Milk   Grocery    Frozen  Detergents_Paper  \\\n",
              "0       3  0.112940  0.130727  0.081464  0.003106          0.065427   \n",
              "1       3  0.062899  0.132824  0.103097  0.028548          0.080590   \n",
              "2       3  0.056622  0.119181  0.082790  0.039116          0.086052   \n",
              "3       3  0.118254  0.015536  0.045464  0.104842          0.012346   \n",
              "4       3  0.201626  0.072914  0.077552  0.063934          0.043455   \n",
              "\n",
              "   Delicassen  Channel_1  Channel_2  \n",
              "0    0.027847      False       True  \n",
              "1    0.036984      False       True  \n",
              "2    0.163559      False       True  \n",
              "3    0.037234       True      False  \n",
              "4    0.108093      False       True  "
            ]
          },
          "execution_count": 14,
          "metadata": {},
          "output_type": "execute_result"
        }
      ],
      "source": [
        "data.head()"
      ]
    },
    {
      "cell_type": "markdown",
      "metadata": {
        "id": "in4wmbs-jLAj"
      },
      "source": [
        "<div style=\"background-color:##EDF9FF\">\n",
        "  <ul><li><h3>Selecting Features</h3></li></ul>\n",
        "</div>"
      ]
    },
    {
      "cell_type": "code",
      "execution_count": 15,
      "metadata": {
        "id": "wDZYOlVqjLAk"
      },
      "outputs": [],
      "source": [
        "X=data.drop(['Region'],axis=1)\n",
        "y=data.Region"
      ]
    },
    {
      "cell_type": "markdown",
      "metadata": {
        "id": "jufpY-aljLAk"
      },
      "source": [
        "# K-Fold Cross Validator"
      ]
    },
    {
      "cell_type": "markdown",
      "metadata": {
        "id": "lUwMP7zSjLAl"
      },
      "source": [
        "Following parameter are avaliable in <a href='https://scikit-learn.org/stable/modules/generated/sklearn.model_selection.KFold.html#sklearn.model_selection.KFold'>K-Fold Cross Validator</a>:\n",
        "\n",
        "- __n_splits__:`int`Number of folds by default 5 and minimum value should be 2."
      ]
    },
    {
      "cell_type": "code",
      "execution_count": 16,
      "metadata": {
        "colab": {
          "base_uri": "https://localhost:8080/"
        },
        "id": "xwYU3XDbjLAl",
        "outputId": "4205ab37-bd46-40af-ec65-952453d9bba0"
      },
      "outputs": [
        {
          "data": {
            "text/plain": [
              "4"
            ]
          },
          "execution_count": 16,
          "metadata": {},
          "output_type": "execute_result"
        }
      ],
      "source": [
        "kf=KFold(n_splits=4)\n",
        "kf.get_n_splits(X,y)"
      ]
    },
    {
      "cell_type": "code",
      "execution_count": 17,
      "metadata": {
        "colab": {
          "base_uri": "https://localhost:8080/"
        },
        "id": "ai29jJ_PjLAm",
        "outputId": "76592575-05d7-40a1-9c32-d8777f1d19aa"
      },
      "outputs": [
        {
          "name": "stdout",
          "output_type": "stream",
          "text": [
            "0.609\n",
            "0.509\n",
            "0.236\n",
            "0.636\n"
          ]
        }
      ],
      "source": [
        "clf=DecisionTreeClassifier()\n",
        "for train_ind, test_ind in kf.split(X,y):\n",
        "    clf.fit(X.iloc[train_ind,:],y[train_ind])\n",
        "    pred=clf.predict(X.iloc[test_ind,:])\n",
        "    print(round(accuracy_score(y[test_ind],pred),3))"
      ]
    },
    {
      "cell_type": "markdown",
      "metadata": {
        "id": "ECmx-ZzhjLAm"
      },
      "source": [
        "# Cross Validator"
      ]
    },
    {
      "cell_type": "markdown",
      "metadata": {
        "id": "OhsO2XlnjLAn"
      },
      "source": [
        "Following parameter are avaliable in <a href='https://scikit-learn.org/stable/modules/generated/sklearn.model_selection.cross_val_score.html'>Cross Validator</a>:\n",
        "\n",
        "- __estimator__:`model` The model to use to fit the data.\n",
        "- __X__: array-like\n",
        "- __y__:target variable `optional`\n",
        "- __cv__:`int`If __None__ then uses 5-fold CV, on using an `int` value uses stratified KFold(Preserves percentage of samples of each class)\n"
      ]
    },
    {
      "cell_type": "code",
      "execution_count": 18,
      "metadata": {
        "id": "SyMcur-pjLAn"
      },
      "outputs": [],
      "source": [
        "cv =cross_val_score(DecisionTreeClassifier(),X,y,cv=4,scoring='accuracy')"
      ]
    },
    {
      "cell_type": "code",
      "execution_count": 19,
      "metadata": {
        "colab": {
          "base_uri": "https://localhost:8080/"
        },
        "id": "kbehoKpOjLAn",
        "outputId": "f8cedff4-2241-468e-f29f-e10eb0b7558c"
      },
      "outputs": [
        {
          "data": {
            "text/plain": [
              "array([0.56363636, 0.50909091, 0.51818182, 0.55454545])"
            ]
          },
          "execution_count": 19,
          "metadata": {},
          "output_type": "execute_result"
        }
      ],
      "source": [
        "cv"
      ]
    },
    {
      "cell_type": "markdown",
      "metadata": {
        "id": "MrwJabnAjLAo"
      },
      "source": [
        "*__Conclusion__*: In this demonstration, we have applied K-Fold cross validation to evaluate our model."
      ]
    }
  ],
  "metadata": {
    "colab": {
      "provenance": []
    },
    "kernelspec": {
      "display_name": "ml_venv",
      "language": "python",
      "name": "python3"
    },
    "language_info": {
      "codemirror_mode": {
        "name": "ipython",
        "version": 3
      },
      "file_extension": ".py",
      "mimetype": "text/x-python",
      "name": "python",
      "nbconvert_exporter": "python",
      "pygments_lexer": "ipython3",
      "version": "3.13.1"
    }
  },
  "nbformat": 4,
  "nbformat_minor": 0
}
